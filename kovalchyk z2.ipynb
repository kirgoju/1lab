{
 "cells": [
  {
   "cell_type": "code",
   "execution_count": 13,
   "id": "c14ab41e-3733-40fb-b3d7-e8bcd6bbc5e4",
   "metadata": {},
   "outputs": [
    {
     "name": "stdout",
     "output_type": "stream",
     "text": [
      "Содержимое файла:\n",
      " Первая строка\n",
      "Вторая строка\n",
      "\n",
      "Файл существует: True\n",
      "Файл удален.\n"
     ]
    }
   ],
   "source": [
    "import os\n",
    "with open(\"text.txt\", \"w\", ) as f:\n",
    "    f.write(\"Первая строка\\n\")\n",
    "    f.write(\"Вторая строка\\n\")\n",
    "with open(\"text.txt\", \"r\") as f:\n",
    "    content = f.read()\n",
    "    print(\"Содержимое файла:\\n\", content)\n",
    "print(\"Файл существует:\", os.path.exists(\"text.txt\"))\n",
    "os.remove(\"text.txt\")\n",
    "print(\"Файл удален.\")"
   ]
  },
  {
   "cell_type": "code",
   "execution_count": null,
   "id": "295c9ff5-ce87-494f-9f69-1503fd9842f1",
   "metadata": {},
   "outputs": [],
   "source": []
  }
 ],
 "metadata": {
  "kernelspec": {
   "display_name": "Python [conda env:base] *",
   "language": "python",
   "name": "conda-base-py"
  },
  "language_info": {
   "codemirror_mode": {
    "name": "ipython",
    "version": 3
   },
   "file_extension": ".py",
   "mimetype": "text/x-python",
   "name": "python",
   "nbconvert_exporter": "python",
   "pygments_lexer": "ipython3",
   "version": "3.12.7"
  }
 },
 "nbformat": 4,
 "nbformat_minor": 5
}
