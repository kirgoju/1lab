{
 "cells": [
  {
   "cell_type": "code",
   "execution_count": 15,
   "id": "e0891b40-58bd-4dbc-b661-f0a560e81896",
   "metadata": {},
   "outputs": [
    {
     "name": "stdout",
     "output_type": "stream",
     "text": [
      " Том в устройстве C не имеет метки.\n",
      " Серийный номер тома: 0641-3F33\n",
      "\n",
      " Содержимое папки C:\\Users\\nikit\n",
      "\n",
      "12.03.2025  01:06    <DIR>          .\n",
      "22.02.2025  16:25    <DIR>          ..\n",
      "11.03.2025  23:32    <DIR>          .anaconda\n",
      "10.03.2025  04:08               578 .bash_history\n",
      "12.03.2025  01:15    <DIR>          .conda\n",
      "11.03.2025  23:33               146 .condarc\n",
      "11.03.2025  23:32    <DIR>          .continuum\n",
      "10.03.2025  03:14                58 .gitconfig\n",
      "12.03.2025  01:03    <DIR>          .ipynb_checkpoints\n",
      "11.03.2025  23:38    <DIR>          .ipython\n",
      "11.03.2025  23:35    <DIR>          .jupyter\n",
      "10.03.2025  03:23                20 .lesshst\n",
      "12.03.2025  00:10    <DIR>          .matplotlib\n",
      "12.03.2025  01:02    <DIR>          .virtual_documents\n",
      "03.03.2025  18:40    <DIR>          .vscode\n",
      "04.03.2025  12:51             3 469 AMDRM_Install.log\n",
      "11.03.2025  23:33    <DIR>          anaconda3\n",
      "11.03.2025  23:34    <DIR>          anaconda_projects\n",
      "22.02.2025  15:52    <DIR>          Contacts\n",
      "22.02.2025  15:55    <DIR>          Documents\n",
      "12.03.2025  01:00    <DIR>          Downloads\n",
      "22.02.2025  15:52    <DIR>          Favorites\n",
      "12.03.2025  00:51             1 573 kovalchyk z2.ipynb\n",
      "12.03.2025  00:55             7 183 kovalchyk z3.ipynb\n",
      "22.02.2025  15:52    <DIR>          Links\n",
      "22.02.2025  15:52    <DIR>          Music\n",
      "12.03.2025  00:39    <DIR>          notebooks\n",
      "11.03.2025  15:26    <DIR>          OneDrive\n",
      "12.03.2025  00:14            41 689 primeri jupyter.ipynb\n",
      "22.02.2025  15:52    <DIR>          Saved Games\n",
      "22.02.2025  16:25    <DIR>          Searches\n",
      "11.03.2025  23:58                72 Untitled.ipynb\n",
      "12.03.2025  01:03                 0 untitled.txt\n",
      "12.03.2025  00:10            41 689 Untitled1.ipynb\n",
      "12.03.2025  01:06             3 979 Untitled2.ipynb\n",
      "22.02.2025  16:58    <DIR>          Videos\n",
      "              12 файлов        100 456 байт\n",
      "              24 папок  147 007 582 208 байт свободно\n",
      "C:\\Users\\nikit\\anaconda3\\python.exe\n"
     ]
    }
   ],
   "source": [
    "!dir\n",
    "!where python\n",
    "!mkdir test_folder\n",
    "\n"
   ]
  },
  {
   "cell_type": "code",
   "execution_count": 21,
   "id": "f1152703-faa7-4c80-8380-76f7ee203e6a",
   "metadata": {},
   "outputs": [
    {
     "name": "stdout",
     "output_type": "stream",
     "text": [
      "Перемещено файлов:         1.\n",
      "\f",
      "\n"
     ]
    }
   ],
   "source": [
    "!move untitled.txt test_folder\n",
    "!del test_folder\\untitled.txt\n",
    "%clear"
   ]
  },
  {
   "cell_type": "code",
   "execution_count": null,
   "id": "3277da4e-a8d5-42aa-8250-d156fa6535ce",
   "metadata": {},
   "outputs": [],
   "source": []
  }
 ],
 "metadata": {
  "kernelspec": {
   "display_name": "Python [conda env:base] *",
   "language": "python",
   "name": "conda-base-py"
  },
  "language_info": {
   "codemirror_mode": {
    "name": "ipython",
    "version": 3
   },
   "file_extension": ".py",
   "mimetype": "text/x-python",
   "name": "python",
   "nbconvert_exporter": "python",
   "pygments_lexer": "ipython3",
   "version": "3.12.7"
  }
 },
 "nbformat": 4,
 "nbformat_minor": 5
}
