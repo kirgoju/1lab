{
 "cells": [
  {
   "cell_type": "markdown",
   "id": "c0f281a4-4f4a-4125-a842-f85ae0882db2",
   "metadata": {},
   "source": [
    "#Практическое задание №1\n",
    "\n",
    "**жирный текст** и *курсивный текст*\n",
    "\n",
    " Нумированный список:\n",
    " - 1\n",
    " - 2\n",
    " - 3\n",
    "   \n",
    "Маркированный список:\n",
    "1. 1\n",
    "2. 2\n",
    "3. 3\n",
    "\n",
    "$e^{x} = \\sum_{n=0}^{\\infty} \\frac{x^{n}}{n!}$\n",
    "\n",
    "![21](https://i.pinimg.com/originals/b1/4e/f7/b14ef7ba2d8463d263c80ace2cbcd3bb.jpg)"
   ]
  },
  {
   "cell_type": "code",
   "execution_count": 13,
   "id": "78613d4a-32eb-4a40-a1fc-75185295a364",
   "metadata": {},
   "outputs": [
    {
     "name": "stdin",
     "output_type": "stream",
     "text": [
      "как звать тебя? nikita\n"
     ]
    },
    {
     "name": "stdout",
     "output_type": "stream",
     "text": [
      "Привет, nikita! Добро пожаловать в JupyterLab\n"
     ]
    }
   ],
   "source": [
    "x=input(\"как звать тебя?\")\n",
    "print(f\"Привет, {x}! Добро пожаловать в JupyterLab\")"
   ]
  },
  {
   "cell_type": "code",
   "execution_count": null,
   "id": "47966a14-51fb-4460-a2cc-96d92b35e5f1",
   "metadata": {},
   "outputs": [],
   "source": []
  }
 ],
 "metadata": {
  "kernelspec": {
   "display_name": "Python [conda env:base] *",
   "language": "python",
   "name": "conda-base-py"
  },
  "language_info": {
   "codemirror_mode": {
    "name": "ipython",
    "version": 3
   },
   "file_extension": ".py",
   "mimetype": "text/x-python",
   "name": "python",
   "nbconvert_exporter": "python",
   "pygments_lexer": "ipython3",
   "version": "3.12.7"
  }
 },
 "nbformat": 4,
 "nbformat_minor": 5
}
